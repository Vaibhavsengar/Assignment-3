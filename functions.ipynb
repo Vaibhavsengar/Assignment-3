{
 "cells": [
  {
   "cell_type": "code",
   "execution_count": 15,
   "id": "d9480774",
   "metadata": {},
   "outputs": [
    {
     "data": {
      "text/plain": [
       "21"
      ]
     },
     "execution_count": 15,
     "metadata": {},
     "output_type": "execute_result"
    }
   ],
   "source": [
    "#1)\n",
    "a = [1,2,3,4,5,6]\n",
    "def add(n):\n",
    "    b = sum(a)\n",
    "    return b\n",
    "    \n",
    "    \n",
    "add(a)\n",
    "\n",
    "\n",
    "    \n",
    "    "
   ]
  },
  {
   "cell_type": "code",
   "execution_count": 17,
   "id": "8d646310",
   "metadata": {},
   "outputs": [
    {
     "data": {
      "text/plain": [
       "'sdsa'"
      ]
     },
     "execution_count": 17,
     "metadata": {},
     "output_type": "execute_result"
    }
   ],
   "source": [
    "#2)\n",
    "def reverse(n):\n",
    "    a = list(n)\n",
    "    b = a[::-1]\n",
    "    c = ''.join(b)\n",
    "    return c\n",
    "\n",
    "reverse(\"asds\")\n",
    "    "
   ]
  },
  {
   "cell_type": "code",
   "execution_count": 33,
   "id": "cf4172eb",
   "metadata": {},
   "outputs": [
    {
     "name": "stdout",
     "output_type": "stream",
     "text": [
      "no of uppercase : 7\n",
      "no of lowercase : 6\n"
     ]
    }
   ],
   "source": [
    "def ulstr(n):\n",
    "    count1 = 0\n",
    "    count = 0\n",
    "    for i in n: \n",
    "        if  (i.isupper()) == True:\n",
    "            \n",
    "            count1 +=1\n",
    "        elif i.islower() == True:\n",
    "            count +=1\n",
    "            \n",
    "      \n",
    "    print(\"no of uppercase :\",count1)\n",
    "    print(\"no of lowercase :\",count)\n",
    "        \n",
    "        \n",
    "ulstr(\"VaibhavSENGAR\")\n",
    "            \n",
    "            \n",
    "            \n",
    "            \n",
    "    \n",
    "    "
   ]
  },
  {
   "cell_type": "code",
   "execution_count": null,
   "id": "8cceb84b",
   "metadata": {},
   "outputs": [],
   "source": []
  }
 ],
 "metadata": {
  "kernelspec": {
   "display_name": "Python 3 (ipykernel)",
   "language": "python",
   "name": "python3"
  },
  "language_info": {
   "codemirror_mode": {
    "name": "ipython",
    "version": 3
   },
   "file_extension": ".py",
   "mimetype": "text/x-python",
   "name": "python",
   "nbconvert_exporter": "python",
   "pygments_lexer": "ipython3",
   "version": "3.9.12"
  }
 },
 "nbformat": 4,
 "nbformat_minor": 5
}
